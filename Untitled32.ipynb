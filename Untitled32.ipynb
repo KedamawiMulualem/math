{
 "cells": [
  {
   "cell_type": "code",
   "execution_count": 1,
   "metadata": {},
   "outputs": [
    {
     "name": "stdout",
     "output_type": "stream",
     "text": [
      "enter your height15\n",
      "               [1]\n",
      "              [1, 1]\n",
      "             [1, 2, 1]\n",
      "            [1, 3, 3, 1]\n",
      "           [1, 4, 6, 4, 1]\n",
      "          [1, 5, 10, 10, 5, 1]\n",
      "         [1, 6, 15, 20, 15, 6, 1]\n",
      "        [1, 7, 21, 35, 35, 21, 7, 1]\n",
      "       [1, 8, 28, 56, 70, 56, 28, 8, 1]\n",
      "      [1, 9, 36, 84, 126, 126, 84, 36, 9, 1]\n",
      "     [1, 10, 45, 120, 210, 252, 210, 120, 45, 10, 1]\n",
      "    [1, 11, 55, 165, 330, 462, 462, 330, 165, 55, 11, 1]\n",
      "   [1, 12, 66, 220, 495, 792, 924, 792, 495, 220, 66, 12, 1]\n",
      "  [1, 13, 78, 286, 715, 1287, 1716, 1716, 1287, 715, 286, 78, 13, 1]\n",
      " [1, 14, 91, 364, 1001, 2002, 3003, 3432, 3003, 2002, 1001, 364, 91, 14, 1]\n"
     ]
    }
   ],
   "source": [
    "import math\n",
    "\n",
    "def combine(row, item): \n",
    "    combined=int((math.factorial(row)) / ((math.factorial(item)) * math.factorial(row - item)))\n",
    "    return combined\n",
    "\n",
    "def triangle(num_rows):\n",
    "    output = [] \n",
    "    global string_space\n",
    "    \n",
    "    for row in range(num_rows):\n",
    "        new_row = [] \n",
    "        for item in range(row + 1): \n",
    "            new_row.append(combine(row, item))\n",
    "        output.append(new_row)\n",
    "    return output\n",
    "string_space=\" \"\n",
    "idx=0\n",
    "\n",
    "def draw_space(num_):\n",
    "    global string_space\n",
    "    string_space=\"\"\n",
    "    for i in range(num_):\n",
    "        string_space+=\" \"\n",
    "\n",
    "def print_triangle(height):\n",
    "    global idx\n",
    "    global string_spac\n",
    "    for row_ in triangle(height):\n",
    "        draw_space(height-idx)\n",
    "        print(string_space+ str(row_))\n",
    "        idx+=1\n",
    "a=0\n",
    "a=input(\"enter your height\")        \n",
    "print_triangle(int(a))"
   ]
  },
  {
   "cell_type": "code",
   "execution_count": null,
   "metadata": {},
   "outputs": [],
   "source": []
  },
  {
   "cell_type": "code",
   "execution_count": null,
   "metadata": {},
   "outputs": [],
   "source": []
  },
  {
   "cell_type": "code",
   "execution_count": null,
   "metadata": {
    "collapsed": true
   },
   "outputs": [],
   "source": []
  },
  {
   "cell_type": "code",
   "execution_count": null,
   "metadata": {
    "collapsed": true
   },
   "outputs": [],
   "source": []
  }
 ],
 "metadata": {
  "kernelspec": {
   "display_name": "Python 3",
   "language": "python",
   "name": "python3"
  },
  "language_info": {
   "codemirror_mode": {
    "name": "ipython",
    "version": 3
   },
   "file_extension": ".py",
   "mimetype": "text/x-python",
   "name": "python",
   "nbconvert_exporter": "python",
   "pygments_lexer": "ipython3",
   "version": "3.6.1"
  }
 },
 "nbformat": 4,
 "nbformat_minor": 2
}
